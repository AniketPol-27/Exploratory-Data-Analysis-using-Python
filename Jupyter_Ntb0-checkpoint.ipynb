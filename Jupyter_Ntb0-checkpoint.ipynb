{
 "cells": [
  {
   "cell_type": "markdown",
   "id": "26c75a30-39b3-487d-b165-816407e1cf67",
   "metadata": {
    "jupyter": {
     "source_hidden": true
    }
   },
   "source": [
    "#STRATIFY\n",
    "\n",
    "DECODING THE BASKET \n",
    "\n",
    "TASK 1 Exploratory Data Analysis\n",
    "\n",
    "This task will help you understand customer purchasing behavior, product popularity, and\n",
    "temporal ordering patterns, which helps in optimizing inventory, personalizing marketing\n",
    "strategies, and improving customer retention through better product recommendations and\n",
    "timing of promotions.:\n",
    "1. Total number of orders and unique customers\n",
    "2. Number of unique products, aisles, and departments\n",
    "3. Top 20 most frequently ordered products\n",
    "4. Top departments and aisles by order volume\n",
    "5. Identify most reordered products (products with highest reorder rate)\n",
    "6. Average basket size (number of items per order)\n",
    "    1Order trends by hour of the day, day of the week, and days since prior order\n",
    "\n"
   ]
  },
  {
   "cell_type": "code",
   "execution_count": 1,
   "id": "c59df462-80da-4fca-b68b-25357451dda1",
   "metadata": {},
   "outputs": [
    {
     "name": "stdout",
     "output_type": "stream",
     "text": [
      "Name: pandas\n",
      "Version: 2.2.2\n",
      "Summary: Powerful data structures for data analysis, time series, and statistics\n",
      "Home-page: https://pandas.pydata.org\n",
      "Author: \n",
      "Author-email: The Pandas Development Team <pandas-dev@python.org>\n",
      "License: BSD 3-Clause License\n",
      "\n",
      "Copyright (c) 2008-2011, AQR Capital Management, LLC, Lambda Foundry, Inc. and PyData Development Team\n",
      "All rights reserved.\n",
      "\n",
      "Copyright (c) 2011-2023, Open source contributors.\n",
      "\n",
      "Redistribution and use in source and binary forms, with or without\n",
      "modification, are permitted provided that the following conditions are met:\n",
      "\n",
      "* Redistributions of source code must retain the above copyright notice, this\n",
      "  list of conditions and the following disclaimer.\n",
      "\n",
      "* Redistributions in binary form must reproduce the above copyright notice,\n",
      "  this list of conditions and the following disclaimer in the documentation\n",
      "  and/or other materials provided with the distribution.\n",
      "\n",
      "* Neither the name of the copyright holder nor the names of its\n",
      "  contributors may be used to endorse or promote products derived from\n",
      "  this software without specific prior written permission.\n",
      "\n",
      "THIS SOFTWARE IS PROVIDED BY THE COPYRIGHT HOLDERS AND CONTRIBUTORS \"AS IS\"\n",
      "AND ANY EXPRESS OR IMPLIED WARRANTIES, INCLUDING, BUT NOT LIMITED TO, THE\n",
      "IMPLIED WARRANTIES OF MERCHANTABILITY AND FITNESS FOR A PARTICULAR PURPOSE ARE\n",
      "DISCLAIMED. IN NO EVENT SHALL THE COPYRIGHT HOLDER OR CONTRIBUTORS BE LIABLE\n",
      "FOR ANY DIRECT, INDIRECT, INCIDENTAL, SPECIAL, EXEMPLARY, OR CONSEQUENTIAL\n",
      "DAMAGES (INCLUDING, BUT NOT LIMITED TO, PROCUREMENT OF SUBSTITUTE GOODS OR\n",
      "SERVICES; LOSS OF USE, DATA, OR PROFITS; OR BUSINESS INTERRUPTION) HOWEVER\n",
      "CAUSED AND ON ANY THEORY OF LIABILITY, WHETHER IN CONTRACT, STRICT LIABILITY,\n",
      "OR TORT (INCLUDING NEGLIGENCE OR OTHERWISE) ARISING IN ANY WAY OUT OF THE USE\n",
      "OF THIS SOFTWARE, EVEN IF ADVISED OF THE POSSIBILITY OF SUCH DAMAGE.\n",
      "Location: /opt/anaconda3/lib/python3.12/site-packages\n",
      "Requires: numpy, python-dateutil, pytz, tzdata\n",
      "Required-by: altair, bokeh, dask-expr, datashader, holoviews, hvplot, panel, seaborn, statsmodels, streamlit, xarray\n"
     ]
    },
    {
     "ename": "ModuleNotFoundError",
     "evalue": "No module named 'pandas'",
     "output_type": "error",
     "traceback": [
      "\u001b[0;31m---------------------------------------------------------------------------\u001b[0m",
      "\u001b[0;31mModuleNotFoundError\u001b[0m                       Traceback (most recent call last)",
      "Cell \u001b[0;32mIn[1], line 8\u001b[0m\n\u001b[1;32m      5\u001b[0m get_ipython()\u001b[38;5;241m.\u001b[39msystem(\u001b[38;5;124m'\u001b[39m\u001b[38;5;124mpip show pandas\u001b[39m\u001b[38;5;124m'\u001b[39m)\n\u001b[1;32m      7\u001b[0m \u001b[38;5;66;03m# Importing Libraries\u001b[39;00m\n\u001b[0;32m----> 8\u001b[0m \u001b[38;5;28;01mimport\u001b[39;00m\u001b[38;5;250m \u001b[39m\u001b[38;5;21;01mpandas\u001b[39;00m\u001b[38;5;250m \u001b[39m\u001b[38;5;28;01mas\u001b[39;00m\u001b[38;5;250m \u001b[39m\u001b[38;5;21;01mpd\u001b[39;00m\n\u001b[1;32m      9\u001b[0m \u001b[38;5;28;01mimport\u001b[39;00m\u001b[38;5;250m \u001b[39m\u001b[38;5;21;01mmatplotlib\u001b[39;00m\u001b[38;5;21;01m.\u001b[39;00m\u001b[38;5;21;01mpyplot\u001b[39;00m\u001b[38;5;250m \u001b[39m\u001b[38;5;28;01mas\u001b[39;00m\u001b[38;5;250m \u001b[39m\u001b[38;5;21;01mplt\u001b[39;00m\n\u001b[1;32m     10\u001b[0m \u001b[38;5;28;01mimport\u001b[39;00m\u001b[38;5;250m \u001b[39m\u001b[38;5;21;01mseaborn\u001b[39;00m\u001b[38;5;250m \u001b[39m\u001b[38;5;28;01mas\u001b[39;00m\u001b[38;5;250m \u001b[39m\u001b[38;5;21;01msns\u001b[39;00m\n",
      "\u001b[0;31mModuleNotFoundError\u001b[0m: No module named 'pandas'"
     ]
    }
   ],
   "source": [
    "# =========================\n",
    "# Task 1: Exploratory Data Analysis\n",
    "# =========================\n",
    "\n",
    "!pip show pandas\n",
    "\n",
    "# Importing Libraries\n",
    "import pandas as pd\n",
    "import matplotlib.pyplot as plt\n",
    "import seaborn as sns\n",
    "\n",
    "print(pd.__version__)\n",
    "\n",
    "\n",
    "# Load datasets\n",
    "orders = pd.read_csv(\"order_metadata.csv\")\n",
    "order_items = pd.read_csv(\"order_items_train.csv\")\n",
    "products = pd.read_csv(\"product_catalog.csv\")\n",
    "departments = pd.read_csv(\"department_info.csv\")\n",
    "aisles = pd.read_csv(\"aisle_info.csv\")\n",
    "\n",
    "# Merge datasets for easier analysis\n",
    "product_merged = products.merge(departments, on=\"department_id\", how=\"left\") \\\n",
    "                         .merge(aisles, on=\"aisle_id\", how=\"left\")\n",
    "order_items = order_items.merge(product_merged, on=\"product_id\", how=\"left\") \\\n",
    "                         .merge(orders, on=\"order_id\", how=\"left\")\n"
   ]
  },
  {
   "cell_type": "code",
   "execution_count": null,
   "id": "dc9fcdd6-7091-4696-a07b-fee87aa51345",
   "metadata": {},
   "outputs": [],
   "source": [
    "#1. Total number of orders and unique customers\n",
    "\n",
    "total_orders = orders[\"order_id\"].nunique()\n",
    "unique_customers = orders[\"user_id\"].nunique()\n",
    "\n",
    "print(\"Total Orders:\", total_orders)\n",
    "print(\"Unique Customers:\", unique_customers)\n"
   ]
  },
  {
   "cell_type": "code",
   "execution_count": null,
   "id": "4848c687-c8d0-43b9-97a2-96df5b886c6b",
   "metadata": {},
   "outputs": [],
   "source": [
    "#2. Number of unique products, aisles, and departments\n",
    "\n",
    "unique_products = products[\"product_id\"].nunique()\n",
    "unique_aisles = products[\"aisle_id\"].nunique()\n",
    "unique_departments = products[\"department_id\"].nunique()\n",
    "\n",
    "print(\"Unique Products:\", unique_products)\n",
    "print(\"Unique Aisles:\", unique_aisles)\n",
    "print(\"Unique Departments:\", unique_departments)\n"
   ]
  },
  {
   "cell_type": "code",
   "execution_count": null,
   "id": "73adb07b-64a3-45a5-a0bd-40f965031293",
   "metadata": {},
   "outputs": [],
   "source": [
    "#3.Top 20 most frequently ordered products\n",
    "\n",
    "top_products = order_items[\"product_name\"].value_counts().head(20)\n",
    "print(top_products)\n"
   ]
  },
  {
   "cell_type": "code",
   "execution_count": null,
   "id": "1511ae89-7448-4b6d-bb45-c065000bb249",
   "metadata": {},
   "outputs": [],
   "source": [
    "#4. Top departments and aisles by order volume (PLOT)\n",
    "\n",
    "# Departments\n",
    "dept_orders = order_items.groupby(\"department\")[\"order_id\"].count().sort_values(ascending=False).head(10)\n",
    "plt.figure(figsize=(10,5))\n",
    "sns.barplot(x=dept_orders.values, y=dept_orders.index, palette=\"Blues_r\")\n",
    "plt.title(\"Top Departments by Order Volume\")\n",
    "plt.xlabel(\"Number of Orders\")\n",
    "plt.show()\n",
    "\n",
    "# Aisles\n",
    "aisle_orders = order_items.groupby(\"aisle\")[\"order_id\"].count().sort_values(ascending=False).head(10)\n",
    "plt.figure(figsize=(10,5))\n",
    "sns.barplot(x=aisle_orders.values, y=aisle_orders.index, palette=\"Greens_r\")\n",
    "plt.title(\"Top Aisles by Order Volume\")\n",
    "plt.xlabel(\"Number of Orders\")\n",
    "plt.show()\n"
   ]
  },
  {
   "cell_type": "code",
   "execution_count": null,
   "id": "36c77fc8-7d77-4cd4-860f-2cbd0b37b985",
   "metadata": {},
   "outputs": [],
   "source": [
    "#5. Identify most reordered products (highest reorder rate)\n",
    "\n",
    "reorder_rate = order_items.groupby(\"product_name\")[\"reordered\"].mean().sort_values(ascending=False).head(20)\n",
    "print(reorder_rate)\n"
   ]
  },
  {
   "cell_type": "code",
   "execution_count": null,
   "id": "7c1bf2de-b132-4375-9e36-452592dfd67b",
   "metadata": {},
   "outputs": [],
   "source": [
    "#6. Average basket size (number of items per order)\n",
    "\n",
    "basket_size = order_items.groupby(\"order_id\")[\"product_id\"].count().mean()\n",
    "print(\"Average Basket Size:\", basket_size)\n"
   ]
  },
  {
   "cell_type": "code",
   "execution_count": null,
   "id": "2d658565-6612-4f53-9aad-b810dad1a878",
   "metadata": {},
   "outputs": [],
   "source": [
    "#7. Order trends by hour, day of week, and days since prior order (PLOTS)\n",
    "\n",
    "# Hour of the day\n",
    "plt.figure(figsize=(8,5))\n",
    "sns.countplot(x=\"order_hour_of_day\", data=orders, color=\"skyblue\")\n",
    "plt.title(\"Orders by Hour of the Day\")\n",
    "plt.xlabel(\"Hour\")\n",
    "plt.ylabel(\"Order Count\")\n",
    "plt.show()\n",
    "\n",
    "# Day of the week\n",
    "plt.figure(figsize=(8,5))\n",
    "sns.countplot(x=\"order_dow\", data=orders, color=\"lightgreen\")\n",
    "plt.title(\"Orders by Day of Week (0=Sunday)\")\n",
    "plt.xlabel(\"Day of Week\")\n",
    "plt.ylabel(\"Order Count\")\n",
    "plt.show()\n",
    "\n",
    "# Days since prior order\n",
    "plt.figure(figsize=(8,5))\n",
    "sns.histplot(orders[\"days_since_prior_order\"].dropna(), bins=30, color=\"salmon\", kde=False)\n",
    "plt.title(\"Distribution of Days Since Prior Order\")\n",
    "plt.xlabel(\"Days Since Prior Order\")\n",
    "plt.ylabel(\"Count\")\n",
    "plt.show()\n",
    "\n"
   ]
  }
 ],
 "metadata": {
  "kernelspec": {
   "display_name": "Python 3 (ipykernel)",
   "language": "python",
   "name": "python3"
  },
  "language_info": {
   "codemirror_mode": {
    "name": "ipython",
    "version": 3
   },
   "file_extension": ".py",
   "mimetype": "text/x-python",
   "name": "python",
   "nbconvert_exporter": "python",
   "pygments_lexer": "ipython3",
   "version": "3.13.4"
  }
 },
 "nbformat": 4,
 "nbformat_minor": 5
}
